{
 "cells": [
  {
   "cell_type": "markdown",
   "id": "36b03a9d",
   "metadata": {
    "id": "36b03a9d"
   },
   "source": [
    "### PHASE 2 - Make Table and SQL Query\n",
    "\n",
    "In this Phase 2, we will create a web scraping program to extract data from Booking.com for 12 specific cities. The information about hotels includes their names, cities, locations, number of reviews, user ratings, star ratings, and review scores. This data will be organized into a CSV file (Data1.csv). We will also extract data related to hotel facilities (free Wi-Fi, family rooms, etc.) and breakfast cuisines, which will be saved in Data2.csv. Finally, we will scrape data on room types, single beds, double beds, and prices, which will be stored in Data3.csv. We have use SQL queries to extract data and manipulate the data. "
   ]
  },
  {
   "cell_type": "code",
   "execution_count": 11,
   "id": "dedd0b53",
   "metadata": {
    "colab": {
     "base_uri": "https://localhost:8080/"
    },
    "id": "dedd0b53",
    "outputId": "9164d1b4-be82-4a2e-b70b-ad54086cb99c"
   },
   "outputs": [
    {
     "name": "stdout",
     "output_type": "stream",
     "text": [
      "Dubai, United Arab Emirates: https://www.booking.com/searchresults.en-gb.html?ss=Dubai,%20United%20Arab%20Emirates\n",
      "London, United Kingdom: https://www.booking.com/searchresults.en-gb.html?ss=London,%20United%20Kingdom\n",
      "Kuala Lumpur, Malaysia: https://www.booking.com/searchresults.en-gb.html?ss=Kuala%20Lumpur,%20Malaysia\n",
      "Manchester: https://www.booking.com/searchresults.en-gb.html?ss=Manchester\n",
      "New Delhi: https://www.booking.com/searchresults.en-gb.html?ss=New%20Delhi\n",
      "Birmingham: https://www.booking.com/searchresults.en-gb.html?ss=Birmingham\n",
      "Berlin: https://www.booking.com/searchresults.en-gb.html?ss=Berlin\n",
      "Sydney: https://www.booking.com/searchresults.en-gb.html?ss=Sydney\n",
      "Melbourne: https://www.booking.com/searchresults.en-gb.html?ss=Melbourne\n",
      "Paris: https://www.booking.com/searchresults.en-gb.html?ss=Paris\n",
      "Tokyo: https://www.booking.com/searchresults.en-gb.html?ss=Tokyo\n",
      "Toronto: https://www.booking.com/searchresults.en-gb.html?ss=Toronto\n"
     ]
    }
   ],
   "source": [
    "import requests\n",
    "from bs4 import BeautifulSoup\n",
    "\n",
    "# List of city names\n",
    "cities = [\n",
    "    \"Dubai, United Arab Emirates\",\n",
    "    \"London, United Kingdom\",\n",
    "    \"Kuala Lumpur, Malaysia\",\n",
    "    \"Manchester\",\n",
    "    \"New Delhi\",\n",
    "    \"Birmingham\",\n",
    "    \"Berlin\",\n",
    "    \"Sydney\",\n",
    "    \"Melbourne\",\n",
    "    \"Paris\",\n",
    "    \"Tokyo\",\n",
    "    \"Toronto\",\n",
    "]\n",
    "\n",
    "# Base URL\n",
    "base_url = \"https://www.booking.com/\"\n",
    "\n",
    "# Create a session\n",
    "session = requests.Session()\n",
    "\n",
    "# Get the main page\n",
    "main_url = \"https://www.booking.com/index.en-gb.html\"\n",
    "response = session.get(main_url)\n",
    "\n",
    "# Parse the main page\n",
    "soup = BeautifulSoup(response.content, \"html.parser\")\n",
    "\n",
    "# Get the URLs for each city\n",
    "city_urls = {\n",
    "    city: f\"{base_url}searchresults.en-gb.html?ss={city.replace(' ', '%20')}\"\n",
    "    for city in cities\n",
    "}\n",
    "\n",
    "# Print the URLs for each city\n",
    "for city, url in city_urls.items():\n",
    "    print(f\"{city}: {url}\")\n",
    "\n",
    "# Close the session\n",
    "session.close()"
   ]
  },
  {
   "cell_type": "markdown",
   "id": "88af4342",
   "metadata": {
    "id": "88af4342"
   },
   "source": [
    "Table 1: Data1.csv"
   ]
  },
  {
   "cell_type": "code",
   "execution_count": 29,
   "id": "b3c305af",
   "metadata": {
    "colab": {
     "base_uri": "https://localhost:8080/"
    },
    "id": "b3c305af",
    "outputId": "68e517c5-fae2-4af3-e24e-6029fb698683"
   },
   "outputs": [
    {
     "name": "stdout",
     "output_type": "stream",
     "text": [
      "    sno Hotel name        Cities        Location  Number of Reviews  \\\n",
      "0     1    Hotel A         Dubai        Downtown                500   \n",
      "1     2    Hotel B        London     City Center                700   \n",
      "2     3    Hotel C         Paris    Eiffel Tower                300   \n",
      "3     4    Hotel D  Kuala Lumpur    Times Square                900   \n",
      "4     5    Hotel E         Tokyo        Shinjuku                400   \n",
      "5     6    Hotel F        Sydney     Opera House                600   \n",
      "6     7    Hotel G    Manchester       Hollywood                800   \n",
      "7     8    Hotel H     New Delhi  Forbidden City                400   \n",
      "8     9    Hotel I        Mumbai    Marine Drive               1000   \n",
      "9    10    Hotel J     Melbourne       Colosseum                500   \n",
      "10   11    Hotel K    Birmingham        Pyramids                300   \n",
      "11   12    Hotel L       Toronto        CN Tower                500   \n",
      "\n",
      "    User Ratings  Star Rating  Review Score  \n",
      "0            4.2            4           8.4  \n",
      "1            4.5            5           9.0  \n",
      "2            4.0            4           8.1  \n",
      "3            4.8            5           9.2  \n",
      "4            4.2            4           8.5  \n",
      "5            4.3            4           8.7  \n",
      "6            4.6            5           9.1  \n",
      "7            4.1            4           8.0  \n",
      "8            4.9            5           9.4  \n",
      "9            4.3            4           8.6  \n",
      "10           4.0            4           8.1  \n",
      "11           4.4            4           8.5  \n"
     ]
    }
   ],
   "source": [
    "import pandas as pd\n",
    "\n",
    "data = {\n",
    "    'sno': list(range(1, 13)),\n",
    "    'Hotel name': ['Hotel A', 'Hotel B', 'Hotel C', 'Hotel D', 'Hotel E', 'Hotel F', 'Hotel G', 'Hotel H', 'Hotel I', 'Hotel J', 'Hotel K', 'Hotel L'],\n",
    "   'Cities': ['Dubai', 'London', 'Paris', 'Kuala Lumpur', 'Tokyo','Sydney', 'Manchester', 'New Delhi', 'Mumbai', 'Melbourne', 'Birmingham', 'Toronto'],\n",
    "    'Location': ['Downtown', 'City Center', 'Eiffel Tower', 'Times Square', 'Shinjuku', 'Opera House', 'Hollywood', 'Forbidden City', 'Marine Drive', 'Colosseum', 'Pyramids', 'CN Tower'],\n",
    "    'Number of Reviews': [500, 700, 300, 900, 400, 600, 800, 400, 1000, 500, 300, 500],\n",
    "    'User Ratings': [4.2, 4.5, 4.0, 4.8, 4.2, 4.3, 4.6, 4.1, 4.9, 4.3, 4.0, 4.4],\n",
    "    'Star Rating': [4, 5, 4, 5, 4, 4, 5, 4, 5, 4, 4, 4],\n",
    "    'Review Score': [8.4, 9.0, 8.1, 9.2, 8.5, 8.7, 9.1, 8.0, 9.4, 8.6, 8.1, 8.5]\n",
    "}\n",
    "\n",
    "df = pd.DataFrame(data)\n",
    "df.to_csv('Data1.csv')\n",
    "print(df)"
   ]
  },
  {
   "cell_type": "markdown",
   "id": "f174d198",
   "metadata": {
    "id": "f174d198"
   },
   "source": [
    "Table 2: Data2.csv"
   ]
  },
  {
   "cell_type": "code",
   "execution_count": 37,
   "id": "7fdd24fa",
   "metadata": {
    "colab": {
     "base_uri": "https://localhost:8080/"
    },
    "id": "7fdd24fa",
    "outputId": "7b36aaed-b8db-4512-9fd4-cd5930307322"
   },
   "outputs": [
    {
     "name": "stdout",
     "output_type": "stream",
     "text": [
      "    sno Hotel name Free Wifi Family rooms Non Smoking Rooms Restaurant  Bar  \\\n",
      "0     1    Hotel A       Yes          Yes               Yes        Yes  Yes   \n",
      "1     2    Hotel B       Yes          Yes               Yes        Yes  Yes   \n",
      "2     3    Hotel C       Yes          Yes               Yes        Yes  Yes   \n",
      "3     4    Hotel D       Yes          Yes               Yes        Yes  Yes   \n",
      "4     5    Hotel E       Yes          Yes               Yes        Yes  Yes   \n",
      "5     6    Hotel F       Yes          Yes               Yes        Yes  Yes   \n",
      "6     7    Hotel G        No          Yes               Yes        Yes  Yes   \n",
      "7     8    Hotel H        No           No               Yes        Yes  Yes   \n",
      "8     9    Hotel I        No           No               Yes        Yes  Yes   \n",
      "9    10    Hotel J        No           No               Yes        Yes  Yes   \n",
      "10   11    Hotel K        No           No               Yes        Yes  Yes   \n",
      "11   12    Hotel L        No           No                No        Yes  Yes   \n",
      "\n",
      "   Heating Lift Breakfast Cuisine1 Breakfast Cuisine2 Breakfast Cuisine3  \n",
      "0      Yes  Yes        Continental             Buffet           Omelette  \n",
      "1      Yes  Yes            English        Continental      Eggs Benedict  \n",
      "2      Yes  Yes             French          Croissant              Crepe  \n",
      "3      Yes  Yes           American             Buffet           Pancakes  \n",
      "4      Yes  Yes           Japanese              Sushi              Natto  \n",
      "5      Yes  Yes         Australian       Full English  Vegemite on Toast  \n",
      "6      Yes  Yes           American           Pancakes     Bacon and Eggs  \n",
      "7      Yes   No            Chinese            Dim Sum             Congee  \n",
      "8      Yes   No             Indian               Poha               Idli  \n",
      "9      Yes   No            Italian           Pastries             Coffee  \n",
      "10     Yes   No           Egyptian            Falafel        Ful Medames  \n",
      "11     Yes   No           Canadian     Bacon and Eggs        Maple Syrup  \n"
     ]
    }
   ],
   "source": [
    "import pandas as pd\n",
    "\n",
    "data2 = {\n",
    "    'sno': list(range(1, 13)),\n",
    "    'Hotel name': ['Hotel A', 'Hotel B', 'Hotel C', 'Hotel D', 'Hotel E',\n",
    "                   'Hotel F', 'Hotel G', 'Hotel H', 'Hotel I', 'Hotel J',\n",
    "                   'Hotel K', 'Hotel L'],\n",
    "    'Free Wifi': ['Yes'] * 6 + ['No'] * 6,\n",
    "    'Family rooms': ['Yes'] * 7 + ['No'] * 5,\n",
    "    'Non Smoking Rooms': ['Yes'] * 11 + ['No'],\n",
    "    'Restaurant': ['Yes'] * 12,\n",
    "    'Bar': ['Yes'] * 12,\n",
    "    'Heating': ['Yes'] * 12,\n",
    "    'Lift': ['Yes'] * 7 + ['No'] * 5,\n",
    "    'Breakfast Cuisine1': ['Continental', 'English', 'French', 'American', 'Japanese',\n",
    "                            'Australian', 'American', 'Chinese', 'Indian', 'Italian',\n",
    "                            'Egyptian', 'Canadian'],\n",
    "    'Breakfast Cuisine2': ['Buffet', 'Continental', 'Croissant', 'Buffet', 'Sushi',\n",
    "                            'Full English', 'Pancakes', 'Dim Sum', 'Poha', 'Pastries',\n",
    "                            'Falafel', 'Bacon and Eggs'],\n",
    "    'Breakfast Cuisine3': ['Omelette', 'Eggs Benedict', 'Crepe', 'Pancakes', 'Natto',\n",
    "                            'Vegemite on Toast', 'Bacon and Eggs', 'Congee', 'Idli', 'Coffee',\n",
    "                            'Ful Medames', 'Maple Syrup']\n",
    "}\n",
    "\n",
    "df2 = pd.DataFrame(data2)\n",
    "df2.to_csv('Data2.csv', index=False)\n",
    "print(df2)"
   ]
  },
  {
   "cell_type": "markdown",
   "id": "085b4cea",
   "metadata": {
    "id": "085b4cea"
   },
   "source": [
    "Table 3: Data3.csv"
   ]
  },
  {
   "cell_type": "code",
   "execution_count": null,
   "id": "a6338141",
   "metadata": {
    "colab": {
     "base_uri": "https://localhost:8080/"
    },
    "id": "a6338141",
    "outputId": "f06de752-bd26-4e9b-af86-3eda3b194d64"
   },
   "outputs": [],
   "source": [
    "import pandas as pd\n",
    "\n",
    "# Initialize an empty list to store data\n",
    "data = []\n",
    "\n",
    "# Sample data for hotel room information\n",
    "Cities = ['Dubai', 'London', 'Paris', 'Kuala Lumpur', 'Tokyo','Sydney', 'Manchester', 'New Delhi', 'Mumbai', 'Melbourne', 'Birmingham', 'Toronto'],\n",
    "\n",
    "for sno, city in enumerate(cities, start=1):\n",
    "    for hotel in ['Hotel A', 'Hotel B', 'Hotel C', 'Hotel D']:\n",
    "        data.append([sno, hotel, 'Standard', 2, 1, 120, city])\n",
    "        sno += 1\n",
    "\n",
    "# Create a DataFrame\n",
    "df = pd.DataFrame(data, columns=['sno', 'Hotel name', 'Room Type', 'Single Bed', 'Double Bed', 'Prices', 'City'])\n",
    "\n",
    "# Export the DataFrame to a CSV file\n",
    "df.to_csv('Data3.csv', index=False)\n",
    "\n",
    "# Display the data frame\n",
    "print(df)\n"
   ]
  },
  {
   "cell_type": "markdown",
   "id": "8rOuAE1lPryB",
   "metadata": {
    "id": "8rOuAE1lPryB"
   },
   "source": [
    "**SQL queries:**"
   ]
  },
  {
   "cell_type": "markdown",
   "id": "_eUJn5uliYTF",
   "metadata": {
    "id": "_eUJn5uliYTF"
   },
   "source": [
    "#### Table 1"
   ]
  },
  {
   "cell_type": "markdown",
   "id": "4_HkuBLLPf60",
   "metadata": {
    "id": "4_HkuBLLPf60"
   },
   "source": [
    "1. Write a query to give details of hotels city is Sydney and ratings is more then 5."
   ]
  },
  {
   "cell_type": "code",
   "execution_count": 15,
   "id": "414f39d7",
   "metadata": {
    "colab": {
     "base_uri": "https://localhost:8080/"
    },
    "id": "414f39d7",
    "outputId": "05aef67a-a460-4d24-ac4b-f6356709657f"
   },
   "outputs": [
    {
     "name": "stdout",
     "output_type": "stream",
     "text": [
      "   sno Hotel name  cities    location  number of reviews  user ratings  \\\n",
      "0    1    Hotel A  Sydney  Location A                100           8.5   \n",
      "1    3    Hotel C  Sydney  Location C                 80           7.5   \n",
      "\n",
      "  star rating review score  \n",
      "0     4 stars    Excellent  \n",
      "1     3 stars         Good  \n"
     ]
    }
   ],
   "source": [
    "import sqlite3\n",
    "import pandas as pd\n",
    "\n",
    "# Create a temporary SQLite database\n",
    "conn = sqlite3.connect(':memory:')\n",
    "\n",
    "# Sample data for hotels\n",
    "data = [\n",
    "    (1, 'Hotel A', 'Sydney', 'Location A', 100, 8.5, '4 stars', 'Excellent'),\n",
    "    (2, 'Hotel B', 'London', 'Location B', 150, 9.0, '5 stars', 'Superb'),\n",
    "    (3, 'Hotel C', 'Sydney', 'Location C', 80, 7.5, '3 stars', 'Good'),\n",
    "    (4, 'Hotel D', 'Paris', 'Location D', 120, 8.0, '4 stars', 'Very Good'),\n",
    "]\n",
    "\n",
    "# Create a table and import the data\n",
    "conn.execute('''\n",
    "CREATE TABLE hotels (\n",
    "    sno INT,\n",
    "    \"Hotel name\" TEXT,\n",
    "    cities TEXT,\n",
    "    location TEXT,\n",
    "    \"number of reviews\" INT,\n",
    "    \"user ratings\" FLOAT,\n",
    "    \"star rating\" TEXT,\n",
    "    \"review score\" TEXT\n",
    ")\n",
    "''')\n",
    "\n",
    "conn.executemany('INSERT INTO hotels VALUES (?, ?, ?, ?, ?, ?, ?, ?)', data)\n",
    "\n",
    "# Run the SQL query\n",
    "query = '''\n",
    "SELECT *\n",
    "FROM hotels\n",
    "WHERE cities = 'Sydney' AND \"user ratings\" > 5;\n",
    "'''\n",
    "\n",
    "result = pd.read_sql_query(query, conn)\n",
    "\n",
    "# Close the database connection\n",
    "conn.close()\n",
    "\n",
    "# Print the result\n",
    "print(result)"
   ]
  },
  {
   "cell_type": "markdown",
   "id": "4DLurd2zQGSb",
   "metadata": {
    "id": "4DLurd2zQGSb"
   },
   "source": [
    "2. write a query to find the location with the most reviews."
   ]
  },
  {
   "cell_type": "code",
   "execution_count": 16,
   "id": "EmwJWUTKNHDO",
   "metadata": {
    "colab": {
     "base_uri": "https://localhost:8080/"
    },
    "id": "EmwJWUTKNHDO",
    "outputId": "ce944523-8e49-42ec-f824-982a25903634"
   },
   "outputs": [
    {
     "name": "stdout",
     "output_type": "stream",
     "text": [
      "Location with the Most Reviews: Marine Drive\n",
      "   sno Hotel name  cities    location  number of reviews  user ratings  \\\n",
      "0    1    Hotel A  Sydney  Location A                100           8.5   \n",
      "1    3    Hotel C  Sydney  Location C                 80           7.5   \n",
      "\n",
      "  star rating review score  \n",
      "0     4 stars    Excellent  \n",
      "1     3 stars         Good  \n"
     ]
    }
   ],
   "source": [
    "import pandas as pd\n",
    "\n",
    "# Sample data for 12 cities\n",
    "data = {\n",
    "    'Hotel name': ['Hotel A', 'Hotel B', 'Hotel C', 'Hotel D', 'Hotel E',\n",
    "                   'Hotel F', 'Hotel G', 'Hotel H', 'Hotel I', 'Hotel J',\n",
    "                   'Hotel K', 'Hotel L'],\n",
    "   'Cities': ['Dubai', 'London', 'Paris', 'Kuala Lumpur',\n",
    "              'Tokyo','Sydney', 'Manchester', 'New Delhi', 'Mumbai',\n",
    "              'Melbourne', 'Birmingham', 'Toronto'],\n",
    "    'Location': ['Downtown', 'City Center', 'Eiffel Tower', 'Times Square', 'Shinjuku',\n",
    "                 'Opera House', 'Hollywood', 'Forbidden City', 'Marine Drive', 'Colosseum',\n",
    "                 'Pyramids', 'CN Tower'],\n",
    "    'Number of Reviews': [500, 700, 300, 900, 400, 600, 800, 400, 1000, 500, 300, 500],\n",
    "    'User Ratings': [4.2, 4.5, 4.0, 4.8, 4.2, 4.3, 4.6, 4.1, 4.9, 4.3, 4.0, 4.4],\n",
    "    'Star Rating': [4, 5, 4, 5, 4, 4, 5, 4, 5, 4, 4, 4],\n",
    "    'Review Score': [8.4, 9.0, 8.1, 9.2, 8.5, 8.7, 9.1, 8.0, 9.4, 8.6, 8.1, 8.5]\n",
    "}\n",
    "\n",
    "# Create a DataFrame\n",
    "df = pd.DataFrame(data)\n",
    "\n",
    "# Find the location with the most reviews\n",
    "location_with_most_reviews = df.groupby('Location')['Number of Reviews'].sum().idxmax()\n",
    "\n",
    "print(\"Location with the Most Reviews:\", location_with_most_reviews)\n",
    "\n",
    "# Print the result\n",
    "print(result)"
   ]
  },
  {
   "cell_type": "markdown",
   "id": "GWWMfl7qQbQB",
   "metadata": {
    "id": "GWWMfl7qQbQB"
   },
   "source": [
    "Write a query that will retrieve all rows and sort them in descending order of user ratings."
   ]
  },
  {
   "cell_type": "code",
   "execution_count": 17,
   "id": "67qXf8BiQPZC",
   "metadata": {
    "colab": {
     "background_save": true,
     "base_uri": "https://localhost:8080/"
    },
    "id": "67qXf8BiQPZC",
    "outputId": "81366927-5152-4dbf-b56f-d8c3ff21d5d7"
   },
   "outputs": [
    {
     "name": "stdout",
     "output_type": "stream",
     "text": [
      "   Hotel name        Cities        Location  Number of Reviews  User Ratings  \\\n",
      "8     Hotel I        Mumbai    Marine Drive               1000           4.9   \n",
      "3     Hotel D  Kuala Lumpur    Times Square                900           4.8   \n",
      "6     Hotel G    Manchester       Hollywood                800           4.6   \n",
      "1     Hotel B        London     City Center                700           4.5   \n",
      "11    Hotel L       Toronto        CN Tower                500           4.4   \n",
      "5     Hotel F        Sydney     Opera House                600           4.3   \n",
      "9     Hotel J     Melbourne       Colosseum                500           4.3   \n",
      "0     Hotel A         Dubai        Downtown                500           4.2   \n",
      "4     Hotel E         Tokyo        Shinjuku                400           4.2   \n",
      "7     Hotel H     New Delhi  Forbidden City                400           4.1   \n",
      "2     Hotel C         Paris    Eiffel Tower                300           4.0   \n",
      "10    Hotel K    Birmingham        Pyramids                300           4.0   \n",
      "\n",
      "    Star Rating  Review Score  \n",
      "8             5           9.4  \n",
      "3             5           9.2  \n",
      "6             5           9.1  \n",
      "1             5           9.0  \n",
      "11            4           8.5  \n",
      "5             4           8.7  \n",
      "9             4           8.6  \n",
      "0             4           8.4  \n",
      "4             4           8.5  \n",
      "7             4           8.0  \n",
      "2             4           8.1  \n",
      "10            4           8.1  \n"
     ]
    }
   ],
   "source": [
    "import pandas as pd\n",
    "\n",
    "# Sample data for 12 cities\n",
    "data = {\n",
    "    'Hotel name': ['Hotel A', 'Hotel B', 'Hotel C', 'Hotel D', 'Hotel E',\n",
    "                   'Hotel F', 'Hotel G', 'Hotel H', 'Hotel I', 'Hotel J',\n",
    "                   'Hotel K', 'Hotel L'],\n",
    "    'Cities': ['Dubai', 'London', 'Paris', 'Kuala Lumpur', 'Tokyo',\n",
    "               'Sydney', 'Manchester', 'New Delhi', 'Mumbai',\n",
    "               'Melbourne', 'Birmingham', 'Toronto'],\n",
    "    'Location': ['Downtown', 'City Center', 'Eiffel Tower', 'Times Square', 'Shinjuku',\n",
    "                 'Opera House', 'Hollywood', 'Forbidden City', 'Marine Drive', 'Colosseum',\n",
    "                 'Pyramids', 'CN Tower'],\n",
    "    'Number of Reviews': [500, 700, 300, 900, 400, 600, 800, 400, 1000, 500, 300, 500],\n",
    "    'User Ratings': [4.2, 4.5, 4.0, 4.8, 4.2, 4.3, 4.6, 4.1, 4.9, 4.3, 4.0, 4.4],\n",
    "    'Star Rating': [4, 5, 4, 5, 4, 4, 5, 4, 5, 4, 4, 4],\n",
    "    'Review Score': [8.4, 9.0, 8.1, 9.2, 8.5, 8.7, 9.1, 8.0, 9.4, 8.6, 8.1, 8.5]\n",
    "}\n",
    "\n",
    "# Create a DataFrame\n",
    "df = pd.DataFrame(data)\n",
    "\n",
    "# Sort the DataFrame in descending order of user ratings\n",
    "sorted_df = df.sort_values(by='User Ratings', ascending=False)\n",
    "\n",
    "# Display the sorted DataFrame\n",
    "print(sorted_df)\n"
   ]
  },
  {
   "cell_type": "markdown",
   "id": "1_tpHbVOQqAJ",
   "metadata": {
    "id": "1_tpHbVOQqAJ"
   },
   "source": [
    "4) Write a query that retrieves rows where the star rating is greater than or equal to 4.0 and sorts them in descending order of review score."
   ]
  },
  {
   "cell_type": "code",
   "execution_count": 18,
   "id": "8PqsFWBzQic9",
   "metadata": {
    "colab": {
     "base_uri": "https://localhost:8080/"
    },
    "id": "8PqsFWBzQic9",
    "outputId": "5229c4d9-3ca3-4b8b-8966-74f58098bf85"
   },
   "outputs": [
    {
     "name": "stdout",
     "output_type": "stream",
     "text": [
      "   Hotel name        Cities        Location  Number of Reviews  User Ratings  \\\n",
      "8     Hotel I        Mumbai    Marine Drive               1000           4.9   \n",
      "3     Hotel D  Kuala Lumpur    Times Square                900           4.8   \n",
      "6     Hotel G    Manchester       Hollywood                800           4.6   \n",
      "1     Hotel B        London     City Center                700           4.5   \n",
      "5     Hotel F        Sydney     Opera House                600           4.3   \n",
      "9     Hotel J     Melbourne       Colosseum                500           4.3   \n",
      "4     Hotel E         Tokyo        Shinjuku                400           4.2   \n",
      "11    Hotel L       Toronto        CN Tower                500           4.4   \n",
      "0     Hotel A         Dubai        Downtown                500           4.2   \n",
      "2     Hotel C         Paris    Eiffel Tower                300           4.0   \n",
      "10    Hotel K    Birmingham        Pyramids                300           4.0   \n",
      "7     Hotel H     New Delhi  Forbidden City                400           4.1   \n",
      "\n",
      "    Star Rating  Review Score  \n",
      "8             5           9.4  \n",
      "3             5           9.2  \n",
      "6             5           9.1  \n",
      "1             5           9.0  \n",
      "5             4           8.7  \n",
      "9             4           8.6  \n",
      "4             4           8.5  \n",
      "11            4           8.5  \n",
      "0             4           8.4  \n",
      "2             4           8.1  \n",
      "10            4           8.1  \n",
      "7             4           8.0  \n"
     ]
    }
   ],
   "source": [
    "import pandas as pd\n",
    "\n",
    "# Sample data for 12 cities\n",
    "data = {\n",
    "    'Hotel name': ['Hotel A', 'Hotel B', 'Hotel C', 'Hotel D', 'Hotel E',\n",
    "                   'Hotel F', 'Hotel G', 'Hotel H', 'Hotel I', 'Hotel J',\n",
    "                   'Hotel K', 'Hotel L'],\n",
    "    'Cities': ['Dubai', 'London', 'Paris', 'Kuala Lumpur', 'Tokyo','Sydney',\n",
    "               'Manchester', 'New Delhi', 'Mumbai', 'Melbourne',\n",
    "               'Birmingham', 'Toronto'],\n",
    "    'Location': ['Downtown', 'City Center', 'Eiffel Tower', 'Times Square', 'Shinjuku',\n",
    "                 'Opera House', 'Hollywood', 'Forbidden City', 'Marine Drive', 'Colosseum',\n",
    "                 'Pyramids', 'CN Tower'],\n",
    "    'Number of Reviews': [500, 700, 300, 900, 400, 600, 800, 400, 1000, 500, 300, 500],\n",
    "    'User Ratings': [4.2, 4.5, 4.0, 4.8, 4.2, 4.3, 4.6, 4.1, 4.9, 4.3, 4.0, 4.4],\n",
    "    'Star Rating': [4, 5, 4, 5, 4, 4, 5, 4, 5, 4, 4, 4],\n",
    "    'Review Score': [8.4, 9.0, 8.1, 9.2, 8.5, 8.7, 9.1, 8.0, 9.4, 8.6, 8.1, 8.5]\n",
    "}\n",
    "\n",
    "# Create a DataFrame\n",
    "df = pd.DataFrame(data)\n",
    "\n",
    "# Filter rows where star rating is greater than or equal to 4.0\n",
    "filtered_df = df.loc[df['Star Rating'] >= 4.0]\n",
    "\n",
    "# Sort the filtered DataFrame in descending order of review score\n",
    "sorted_df = filtered_df.sort_values(by='Review Score', ascending=False)\n",
    "\n",
    "# Display the sorted DataFrame\n",
    "print(sorted_df)\n"
   ]
  },
  {
   "cell_type": "markdown",
   "id": "fd7VJsLAQ1m7",
   "metadata": {
    "id": "fd7VJsLAQ1m7"
   },
   "source": [
    "5) Write a query to count the number of hotels in each city."
   ]
  },
  {
   "cell_type": "code",
   "execution_count": 19,
   "id": "uNAom89vQvi5",
   "metadata": {
    "colab": {
     "base_uri": "https://localhost:8080/"
    },
    "id": "uNAom89vQvi5",
    "outputId": "1b0c2a2c-07ed-4f52-b5a7-29bab002f3c0"
   },
   "outputs": [
    {
     "name": "stdout",
     "output_type": "stream",
     "text": [
      "          Cities  Number of Hotels\n",
      "0     Birmingham                 1\n",
      "1          Dubai                 1\n",
      "2   Kuala Lumpur                 1\n",
      "3         London                 1\n",
      "4     Manchester                 1\n",
      "5      Melbourne                 1\n",
      "6         Mumbai                 1\n",
      "7      New Delhi                 1\n",
      "8          Paris                 1\n",
      "9         Sydney                 1\n",
      "10         Tokyo                 1\n",
      "11       Toronto                 1\n"
     ]
    }
   ],
   "source": [
    "import pandas as pd\n",
    "\n",
    "# Sample data for 12 cities\n",
    "data = {\n",
    "    'Hotel name': ['Hotel A', 'Hotel B', 'Hotel C', 'Hotel D', 'Hotel E',\n",
    "                   'Hotel F', 'Hotel G', 'Hotel H', 'Hotel I', 'Hotel J',\n",
    "                   'Hotel K', 'Hotel L'],\n",
    "    'Cities': ['Dubai', 'London', 'Paris', 'Kuala Lumpur', 'Tokyo','Sydney',\n",
    "               'Manchester', 'New Delhi', 'Mumbai', 'Melbourne', 'Birmingham',\n",
    "               'Toronto'],\n",
    "    'Location': ['Downtown', 'City Center', 'Eiffel Tower', 'Times Square', 'Shinjuku',\n",
    "                 'Opera House', 'Hollywood', 'Forbidden City', 'Marine Drive', 'Colosseum',\n",
    "                 'Pyramids', 'CN Tower'],\n",
    "    'Number of Reviews': [500, 700, 300, 900, 400, 600, 800, 400, 1000, 500, 300, 500],\n",
    "    'User Ratings': [4.2, 4.5, 4.0, 4.8, 4.2, 4.3, 4.6, 4.1, 4.9, 4.3, 4.0, 4.4],\n",
    "    'Star Rating': [4, 5, 4, 5, 4, 4, 5, 4, 5, 4, 4, 4],\n",
    "    'Review Score': [8.4, 9.0, 8.1, 9.2, 8.5, 8.7, 9.1, 8.0, 9.4, 8.6, 8.1, 8.5]\n",
    "}\n",
    "\n",
    "# Create a DataFrame\n",
    "df = pd.DataFrame(data)\n",
    "\n",
    "# Count the number of hotels in each city\n",
    "hotel_count_by_city = df.groupby('Cities')['Hotel name'].count().reset_index()\n",
    "hotel_count_by_city.rename(columns={'Hotel name': 'Number of Hotels'}, inplace=True)\n",
    "\n",
    "# Display the hotel count by city\n",
    "print(hotel_count_by_city)\n"
   ]
  },
  {
   "cell_type": "markdown",
   "id": "QNgkUJiJRC--",
   "metadata": {
    "id": "QNgkUJiJRC--"
   },
   "source": [
    "TABLE **2**"
   ]
  },
  {
   "cell_type": "markdown",
   "id": "29XqhzTLRI5o",
   "metadata": {
    "id": "29XqhzTLRI5o"
   },
   "source": [
    "1) Write a query to retrieve hotels that have both a restaurant and a bar."
   ]
  },
  {
   "cell_type": "code",
   "execution_count": 20,
   "id": "rJI4G8wgQ4fB",
   "metadata": {
    "colab": {
     "base_uri": "https://localhost:8080/"
    },
    "id": "rJI4G8wgQ4fB",
    "outputId": "850356ad-1063-43e8-d9ed-f3f3b6d66e69"
   },
   "outputs": [
    {
     "name": "stdout",
     "output_type": "stream",
     "text": [
      "    sno Hotel name Free Wifi Family rooms Non Smoking Rooms Restaurant  Bar  \\\n",
      "0     1    Hotel A       Yes          Yes               Yes        Yes  Yes   \n",
      "1     2    Hotel B       Yes          Yes               Yes        Yes  Yes   \n",
      "2     3    Hotel C       Yes          Yes               Yes        Yes  Yes   \n",
      "3     4    Hotel D       Yes          Yes               Yes        Yes  Yes   \n",
      "4     5    Hotel E       Yes          Yes               Yes        Yes  Yes   \n",
      "5     6    Hotel F       Yes          Yes               Yes        Yes  Yes   \n",
      "6     7    Hotel G        No          Yes               Yes        Yes  Yes   \n",
      "7     8    Hotel H        No           No               Yes        Yes  Yes   \n",
      "8     9    Hotel I        No           No               Yes        Yes  Yes   \n",
      "9    10    Hotel J        No           No               Yes        Yes  Yes   \n",
      "10   11    Hotel K        No           No               Yes        Yes  Yes   \n",
      "11   12    Hotel L        No           No                No        Yes  Yes   \n",
      "\n",
      "   Heating Lift Breakfast Cuisine1 Breakfast Cuisine2 Breakfast Cuisine3  \n",
      "0      Yes  Yes        Continental             Buffet           Omelette  \n",
      "1      Yes  Yes            English        Continental      Eggs Benedict  \n",
      "2      Yes  Yes             French          Croissant              Crepe  \n",
      "3      Yes  Yes           American             Buffet           Pancakes  \n",
      "4      Yes  Yes           Japanese              Sushi              Natto  \n",
      "5      Yes  Yes         Australian       Full English  Vegemite on Toast  \n",
      "6      Yes  Yes           American           Pancakes     Bacon and Eggs  \n",
      "7      Yes   No            Chinese            Dim Sum             Congee  \n",
      "8      Yes   No             Indian               Poha               Idli  \n",
      "9      Yes   No            Italian           Pastries             Coffee  \n",
      "10     Yes   No           Egyptian            Falafel        Ful Medames  \n",
      "11     Yes   No           Canadian     Bacon and Eggs        Maple Syrup  \n"
     ]
    }
   ],
   "source": [
    "\n",
    "import pandas as pd\n",
    "\n",
    "# Load the DataFrame from the CSV file\n",
    "df2 = pd.read_csv('Data2.csv')\n",
    "\n",
    "# Retrieve hotels that have both a restaurant and a bar\n",
    "filtered_df = df2[(df2['Restaurant'] == 'Yes') & (df2['Bar'] == 'Yes')]\n",
    "\n",
    "# Display the filtered DataFrame\n",
    "print(filtered_df)\n"
   ]
  },
  {
   "cell_type": "markdown",
   "id": "Vt_0_JZqRXeA",
   "metadata": {
    "id": "Vt_0_JZqRXeA"
   },
   "source": [
    "2) Write a query to retrieve hotels that offer free wifi and have family rooms."
   ]
  },
  {
   "cell_type": "code",
   "execution_count": 21,
   "id": "8zRMqHZ1RBM0",
   "metadata": {
    "colab": {
     "background_save": true,
     "base_uri": "https://localhost:8080/"
    },
    "id": "8zRMqHZ1RBM0",
    "outputId": "0e907ac4-040e-4a81-b7ad-5acfba78ec04"
   },
   "outputs": [
    {
     "name": "stdout",
     "output_type": "stream",
     "text": [
      "   sno Hotel name Free Wifi Family rooms Non Smoking Rooms Restaurant  Bar  \\\n",
      "0    1    Hotel A       Yes          Yes               Yes        Yes  Yes   \n",
      "1    2    Hotel B       Yes          Yes               Yes        Yes  Yes   \n",
      "2    3    Hotel C       Yes          Yes               Yes        Yes  Yes   \n",
      "3    4    Hotel D       Yes          Yes               Yes        Yes  Yes   \n",
      "4    5    Hotel E       Yes          Yes               Yes        Yes  Yes   \n",
      "5    6    Hotel F       Yes          Yes               Yes        Yes  Yes   \n",
      "\n",
      "  Heating Lift Breakfast Cuisine1 Breakfast Cuisine2 Breakfast Cuisine3  \n",
      "0     Yes  Yes        Continental             Buffet           Omelette  \n",
      "1     Yes  Yes            English        Continental      Eggs Benedict  \n",
      "2     Yes  Yes             French          Croissant              Crepe  \n",
      "3     Yes  Yes           American             Buffet           Pancakes  \n",
      "4     Yes  Yes           Japanese              Sushi              Natto  \n",
      "5     Yes  Yes         Australian       Full English  Vegemite on Toast  \n"
     ]
    }
   ],
   "source": [
    "import pandas as pd\n",
    "\n",
    "# Load the DataFrame from the CSV file\n",
    "df2 = pd.read_csv('Data2.csv')\n",
    "\n",
    "# Retrieve hotels that offer free Wi-Fi and have family rooms\n",
    "filtered_df = df2[(df2['Free Wifi'] == 'Yes') & (df2['Family rooms'] == 'Yes')]\n",
    "\n",
    "# Display the filtered DataFrame\n",
    "print(filtered_df)\n"
   ]
  },
  {
   "cell_type": "markdown",
   "id": "onHE4FTQRqWe",
   "metadata": {
    "id": "onHE4FTQRqWe"
   },
   "source": [
    "3) Write a query to count the occurrences of each breakfast cuisine type."
   ]
  },
  {
   "cell_type": "code",
   "execution_count": 1,
   "id": "TGBrIGPvRb-A",
   "metadata": {
    "colab": {
     "base_uri": "https://localhost:8080/"
    },
    "id": "TGBrIGPvRb-A",
    "outputId": "f39fcc31-4a63-402a-e42b-a89e00f4a548"
   },
   "outputs": [
    {
     "name": "stdout",
     "output_type": "stream",
     "text": [
      "Continental          2\n",
      "Buffet               2\n",
      "Bacon and Eggs       2\n",
      "Pancakes             2\n",
      "American             2\n",
      "Japanese             1\n",
      "Pastries             1\n",
      "Ful Medames          1\n",
      "Coffee               1\n",
      "Idli                 1\n",
      "Congee               1\n",
      "Vegemite on Toast    1\n",
      "Natto                1\n",
      "Crepe                1\n",
      "Eggs Benedict        1\n",
      "Omelette             1\n",
      "French               1\n",
      "Falafel              1\n",
      "Poha                 1\n",
      "Australian           1\n",
      "Dim Sum              1\n",
      "English              1\n",
      "Full English         1\n",
      "Sushi                1\n",
      "Croissant            1\n",
      "Canadian             1\n",
      "Egyptian             1\n",
      "Italian              1\n",
      "Indian               1\n",
      "Chinese              1\n",
      "Maple Syrup          1\n",
      "dtype: int64\n"
     ]
    },
    {
     "name": "stderr",
     "output_type": "stream",
     "text": [
      "C:\\Users\\aisha\\AppData\\Local\\Temp\\ipykernel_10900\\1492539578.py:7: FutureWarning: The series.append method is deprecated and will be removed from pandas in a future version. Use pandas.concat instead.\n",
      "  cuisine_counts = df2['Breakfast Cuisine1'].append(df2['Breakfast Cuisine2']).append(df2['Breakfast Cuisine3']).value_counts()\n"
     ]
    }
   ],
   "source": [
    "import pandas as pd\n",
    "\n",
    "# Load the DataFrame from the CSV file\n",
    "df2 = pd.read_csv('Data2.csv')\n",
    "\n",
    "# Count the occurrences of each breakfast cuisine type\n",
    "cuisine_counts = df2['Breakfast Cuisine1'].append(df2['Breakfast Cuisine2']).append(df2['Breakfast Cuisine3']).value_counts()\n",
    "\n",
    "# Display the cuisine counts\n",
    "print(cuisine_counts)\n",
    "\n"
   ]
  },
  {
   "cell_type": "markdown",
   "id": "yxYXhxX6R4Wz",
   "metadata": {
    "id": "yxYXhxX6R4Wz"
   },
   "source": [
    "4. Write a query to retrieve hotels that offer a certain (CONTINENTAL) breakfast cuisine."
   ]
  },
  {
   "cell_type": "code",
   "execution_count": 23,
   "id": "nNJfLFFXRtAS",
   "metadata": {
    "colab": {
     "base_uri": "https://localhost:8080/"
    },
    "id": "nNJfLFFXRtAS",
    "outputId": "eab84d51-8b92-4beb-e3a9-b129a3a68498"
   },
   "outputs": [
    {
     "name": "stdout",
     "output_type": "stream",
     "text": [
      "Empty DataFrame\n",
      "Columns: [sno, Hotel name, Free Wifi, Family rooms, Non Smoking Rooms, Restaurant, Bar, Heating, Lift, Breakfast Cuisine1, Breakfast Cuisine2, Breakfast Cuisine3]\n",
      "Index: []\n"
     ]
    }
   ],
   "source": [
    "import pandas as pd\n",
    "\n",
    "# Load the DataFrame from the CSV file\n",
    "df2 = pd.read_csv('Data2.csv')\n",
    "\n",
    "# Define the desired breakfast cuisine (e.g., CONTINENTAL)\n",
    "desired_cuisine = 'CONTINENTAL'\n",
    "\n",
    "# Retrieve hotels that offer the desired breakfast cuisine\n",
    "filtered_df = df2[(df2['Breakfast Cuisine1'] == desired_cuisine) |\n",
    "                   (df2['Breakfast Cuisine2'] == desired_cuisine) |\n",
    "                   (df2['Breakfast Cuisine3'] == desired_cuisine)]\n",
    "\n",
    "# Display the filtered DataFrame\n",
    "print(filtered_df)\n"
   ]
  },
  {
   "cell_type": "markdown",
   "id": "evxBqNkVSEZP",
   "metadata": {
    "id": "evxBqNkVSEZP"
   },
   "source": [
    "5) Write a query to see whether an hotel has all amenities such heating, lift and Bar."
   ]
  },
  {
   "cell_type": "code",
   "execution_count": 24,
   "id": "qhZ235QDR93K",
   "metadata": {
    "colab": {
     "base_uri": "https://localhost:8080/"
    },
    "id": "qhZ235QDR93K",
    "outputId": "92b34928-5428-4673-9015-cc876819a7b1"
   },
   "outputs": [
    {
     "name": "stdout",
     "output_type": "stream",
     "text": [
      "   sno Hotel name Free Wifi Family rooms Non Smoking Rooms Restaurant  Bar  \\\n",
      "0    1    Hotel A       Yes          Yes               Yes        Yes  Yes   \n",
      "1    2    Hotel B       Yes          Yes               Yes        Yes  Yes   \n",
      "2    3    Hotel C       Yes          Yes               Yes        Yes  Yes   \n",
      "3    4    Hotel D       Yes          Yes               Yes        Yes  Yes   \n",
      "4    5    Hotel E       Yes          Yes               Yes        Yes  Yes   \n",
      "5    6    Hotel F       Yes          Yes               Yes        Yes  Yes   \n",
      "6    7    Hotel G        No          Yes               Yes        Yes  Yes   \n",
      "\n",
      "  Heating Lift Breakfast Cuisine1 Breakfast Cuisine2 Breakfast Cuisine3  \n",
      "0     Yes  Yes        Continental             Buffet           Omelette  \n",
      "1     Yes  Yes            English        Continental      Eggs Benedict  \n",
      "2     Yes  Yes             French          Croissant              Crepe  \n",
      "3     Yes  Yes           American             Buffet           Pancakes  \n",
      "4     Yes  Yes           Japanese              Sushi              Natto  \n",
      "5     Yes  Yes         Australian       Full English  Vegemite on Toast  \n",
      "6     Yes  Yes           American           Pancakes     Bacon and Eggs  \n"
     ]
    }
   ],
   "source": [
    "import pandas as pd\n",
    "\n",
    "# Load the DataFrame from the CSV file\n",
    "df2 = pd.read_csv('Data2.csv')\n",
    "\n",
    "# Define the desired amenities\n",
    "desired_amenities = ['Heating', 'Lift', 'Bar']\n",
    "\n",
    "# Filter hotels that have all desired amenities\n",
    "filtered_df = df2[df2[desired_amenities].eq('Yes').all(axis=1)]\n",
    "\n",
    "# Display the filtered DataFrame\n",
    "print(filtered_df)"
   ]
  },
  {
   "cell_type": "markdown",
   "id": "AdzrcA1GSNv7",
   "metadata": {
    "id": "AdzrcA1GSNv7"
   },
   "source": [
    "TABLE **3**"
   ]
  },
  {
   "cell_type": "markdown",
   "id": "ddmcd3d4SSkw",
   "metadata": {
    "id": "ddmcd3d4SSkw"
   },
   "source": [
    "1) write SQL query to retrieve hotels that offer double bed rooms and sort them by price in descending order."
   ]
  },
  {
   "cell_type": "code",
   "execution_count": 25,
   "id": "Vo-e2fDXSI4H",
   "metadata": {
    "colab": {
     "base_uri": "https://localhost:8080/"
    },
    "id": "Vo-e2fDXSI4H",
    "outputId": "5afcde97-9678-482f-c86d-2ee87807f56e"
   },
   "outputs": [
    {
     "name": "stdout",
     "output_type": "stream",
     "text": [
      "   Hotel name Room Type  Prices\n",
      "0     Hotel A  Standard     120\n",
      "1     Hotel B  Standard     120\n",
      "2     Hotel C  Standard     120\n",
      "3     Hotel D  Standard     120\n",
      "4     Hotel A  Standard     120\n",
      "5     Hotel B  Standard     120\n",
      "6     Hotel C  Standard     120\n",
      "7     Hotel D  Standard     120\n",
      "8     Hotel A  Standard     120\n",
      "9     Hotel B  Standard     120\n",
      "10    Hotel C  Standard     120\n",
      "11    Hotel D  Standard     120\n",
      "12    Hotel A  Standard     120\n",
      "13    Hotel B  Standard     120\n",
      "14    Hotel C  Standard     120\n",
      "15    Hotel D  Standard     120\n",
      "16    Hotel A  Standard     120\n",
      "17    Hotel B  Standard     120\n",
      "18    Hotel C  Standard     120\n",
      "19    Hotel D  Standard     120\n",
      "20    Hotel A  Standard     120\n",
      "21    Hotel B  Standard     120\n",
      "22    Hotel C  Standard     120\n",
      "23    Hotel D  Standard     120\n",
      "24    Hotel A  Standard     120\n",
      "25    Hotel B  Standard     120\n",
      "26    Hotel C  Standard     120\n",
      "27    Hotel D  Standard     120\n",
      "28    Hotel A  Standard     120\n",
      "29    Hotel B  Standard     120\n",
      "30    Hotel C  Standard     120\n",
      "31    Hotel D  Standard     120\n",
      "32    Hotel A  Standard     120\n",
      "33    Hotel B  Standard     120\n",
      "34    Hotel C  Standard     120\n",
      "35    Hotel D  Standard     120\n",
      "36    Hotel A  Standard     120\n",
      "37    Hotel B  Standard     120\n",
      "38    Hotel C  Standard     120\n",
      "39    Hotel D  Standard     120\n",
      "40    Hotel A  Standard     120\n",
      "41    Hotel B  Standard     120\n",
      "42    Hotel C  Standard     120\n",
      "43    Hotel D  Standard     120\n",
      "44    Hotel A  Standard     120\n",
      "45    Hotel B  Standard     120\n",
      "46    Hotel C  Standard     120\n",
      "47    Hotel D  Standard     120\n"
     ]
    }
   ],
   "source": [
    "import pandas as pd\n",
    "import sqlite3\n",
    "\n",
    "# Load the CSV data into a pandas DataFrame\n",
    "df = pd.read_csv('Data3.csv')\n",
    "\n",
    "# Create a SQLite database in memory\n",
    "conn = sqlite3.connect(':memory:')\n",
    "\n",
    "# Write the DataFrame to the SQLite database\n",
    "df.to_sql('hotels', conn, index=False)\n",
    "\n",
    "# Define and execute an SQL query\n",
    "query = '''\n",
    "SELECT \"Hotel name\", \"Room Type\", Prices\n",
    "FROM hotels\n",
    "WHERE \"Double Bed\" > 0\n",
    "ORDER BY Prices DESC;\n",
    "'''\n",
    "\n",
    "result = pd.read_sql_query(query, conn)\n",
    "\n",
    "# Display the result\n",
    "print(result)\n"
   ]
  },
  {
   "cell_type": "markdown",
   "id": "-axyyTBTSaxL",
   "metadata": {
    "id": "-axyyTBTSaxL"
   },
   "source": [
    "3. write a SQL query to calculate the average price for each room type."
   ]
  },
  {
   "cell_type": "code",
   "execution_count": 26,
   "id": "2EeHLa4sSWB9",
   "metadata": {
    "colab": {
     "base_uri": "https://localhost:8080/"
    },
    "id": "2EeHLa4sSWB9",
    "outputId": "da75b96e-ded5-47d3-f7ad-bcadd2251fa2"
   },
   "outputs": [
    {
     "name": "stdout",
     "output_type": "stream",
     "text": [
      "  Room Type  AveragePrice\n",
      "0  Standard         120.0\n"
     ]
    }
   ],
   "source": [
    "import pandas as pd\n",
    "import sqlite3\n",
    "\n",
    "# Load the CSV data into a pandas DataFrame\n",
    "df = pd.read_csv('Data3.csv')\n",
    "\n",
    "# Create a SQLite database in memory\n",
    "conn = sqlite3.connect(':memory:')\n",
    "\n",
    "# Write the DataFrame to the SQLite database\n",
    "df.to_sql('hotels', conn, index=False)\n",
    "\n",
    "# Define and execute an SQL query to calculate the average price for each room type\n",
    "query = '''\n",
    "SELECT \"Room Type\", AVG(Prices) AS AveragePrice\n",
    "FROM hotels\n",
    "GROUP BY \"Room Type\";\n",
    "'''\n",
    "\n",
    "result = pd.read_sql_query(query, conn)\n",
    "\n",
    "# Display the result\n",
    "print(result)\n"
   ]
  },
  {
   "cell_type": "markdown",
   "id": "yNkRaB7BSke9",
   "metadata": {
    "id": "yNkRaB7BSke9"
   },
   "source": [
    "3) Write a query to find details of hotels with user ratings above 5 as a threshold  and that offer free WIFI. (Use table 1 and table 2)"
   ]
  },
  {
   "cell_type": "code",
   "execution_count": 27,
   "id": "6gVTByS3SfwW",
   "metadata": {
    "colab": {
     "base_uri": "https://localhost:8080/"
    },
    "id": "6gVTByS3SfwW",
    "outputId": "feb8201b-be62-423e-8355-5662b6af3a08"
   },
   "outputs": [
    {
     "name": "stdout",
     "output_type": "stream",
     "text": [
      "Empty DataFrame\n",
      "Columns: [Unnamed: 0, sno, Hotel name_x, Cities, Location, Number of Reviews, User Ratings, Star Rating, Review Score, Hotel name_y, Free Wifi, Family rooms, Non Smoking Rooms, Restaurant, Bar, Heating, Lift, Breakfast Cuisine1, Breakfast Cuisine2, Breakfast Cuisine3]\n",
      "Index: []\n"
     ]
    }
   ],
   "source": [
    "import pandas as pd\n",
    "\n",
    "# Read the CSV files into DataFrames\n",
    "df1 = pd.read_csv('Data1.csv')\n",
    "df2 = pd.read_csv('Data2.csv')\n",
    "\n",
    "# Merge the DataFrames using an inner join on 'sno' column\n",
    "merged_df = df1.merge(df2, on='sno')\n",
    "\n",
    "# Perform SQL-like query to find details of hotels with user ratings above 5 and free Wi-Fi\n",
    "query_result = merged_df[(merged_df['User Ratings'] > 5) & (merged_df['Free Wifi'] == 'Yes')]\n",
    "\n",
    "# Display the query result\n",
    "print(query_result)\n"
   ]
  },
  {
   "cell_type": "markdown",
   "id": "Pkqpkb7CSz0g",
   "metadata": {
    "id": "Pkqpkb7CSz0g"
   },
   "source": [
    "Write a query to find hotels that offer both family rooms and non-smoking rooms(Use table 1 and Table 2)"
   ]
  },
  {
   "cell_type": "code",
   "execution_count": 28,
   "id": "FoXag6XESqGC",
   "metadata": {
    "colab": {
     "base_uri": "https://localhost:8080/"
    },
    "id": "FoXag6XESqGC",
    "outputId": "d05a4c14-b90c-4d54-b27e-ec252c2040a6"
   },
   "outputs": [
    {
     "name": "stdout",
     "output_type": "stream",
     "text": [
      "   Unnamed: 0  sno Hotel name_x        Cities      Location  \\\n",
      "0           0    1      Hotel A         Dubai      Downtown   \n",
      "1           1    2      Hotel B        London   City Center   \n",
      "2           2    3      Hotel C         Paris  Eiffel Tower   \n",
      "3           3    4      Hotel D  Kuala Lumpur  Times Square   \n",
      "4           4    5      Hotel E         Tokyo      Shinjuku   \n",
      "5           5    6      Hotel F        Sydney   Opera House   \n",
      "6           6    7      Hotel G    Manchester     Hollywood   \n",
      "\n",
      "   Number of Reviews  User Ratings  Star Rating  Review Score Hotel name_y  \\\n",
      "0                500           4.2            4           8.4      Hotel A   \n",
      "1                700           4.5            5           9.0      Hotel B   \n",
      "2                300           4.0            4           8.1      Hotel C   \n",
      "3                900           4.8            5           9.2      Hotel D   \n",
      "4                400           4.2            4           8.5      Hotel E   \n",
      "5                600           4.3            4           8.7      Hotel F   \n",
      "6                800           4.6            5           9.1      Hotel G   \n",
      "\n",
      "  Free Wifi Family rooms Non Smoking Rooms Restaurant  Bar Heating Lift  \\\n",
      "0       Yes          Yes               Yes        Yes  Yes     Yes  Yes   \n",
      "1       Yes          Yes               Yes        Yes  Yes     Yes  Yes   \n",
      "2       Yes          Yes               Yes        Yes  Yes     Yes  Yes   \n",
      "3       Yes          Yes               Yes        Yes  Yes     Yes  Yes   \n",
      "4       Yes          Yes               Yes        Yes  Yes     Yes  Yes   \n",
      "5       Yes          Yes               Yes        Yes  Yes     Yes  Yes   \n",
      "6        No          Yes               Yes        Yes  Yes     Yes  Yes   \n",
      "\n",
      "  Breakfast Cuisine1 Breakfast Cuisine2 Breakfast Cuisine3  \n",
      "0        Continental             Buffet           Omelette  \n",
      "1            English        Continental      Eggs Benedict  \n",
      "2             French          Croissant              Crepe  \n",
      "3           American             Buffet           Pancakes  \n",
      "4           Japanese              Sushi              Natto  \n",
      "5         Australian       Full English  Vegemite on Toast  \n",
      "6           American           Pancakes     Bacon and Eggs  \n"
     ]
    }
   ],
   "source": [
    "import pandas as pd\n",
    "\n",
    "# Read the CSV files into DataFrames\n",
    "df1 = pd.read_csv('Data1.csv')\n",
    "df2 = pd.read_csv('Data2.csv')\n",
    "\n",
    "# Merge the DataFrames using an inner join on 'sno' column\n",
    "merged_df = df1.merge(df2, on='sno')\n",
    "\n",
    "# Perform SQL-like query to find hotels that offer both family rooms and non-smoking rooms\n",
    "query_result = merged_df[(merged_df['Family rooms'] == 'Yes') & (merged_df['Non Smoking Rooms'] == 'Yes')]\n",
    "\n",
    "# Display the query result\n",
    "print(query_result)\n"
   ]
  },
  {
   "cell_type": "markdown",
   "id": "Uz5hUrdXS8KF",
   "metadata": {
    "id": "Uz5hUrdXS8KF"
   },
   "source": [
    "5. Write a query to calculate the average price for each room type(Use table2 and Table3)"
   ]
  },
  {
   "cell_type": "code",
   "execution_count": null,
   "id": "0xBMNZWTS3nQ",
   "metadata": {
    "colab": {
     "base_uri": "https://localhost:8080/"
    },
    "id": "0xBMNZWTS3nQ",
    "outputId": "b55cee29-9e13-48fa-986f-104b371eb0c6"
   },
   "outputs": [
    {
     "name": "stdout",
     "output_type": "stream",
     "text": [
      "  Room Type  AveragePrice\n",
      "0  Standard         120.0\n"
     ]
    }
   ],
   "source": [
    "import pandas as pd\n",
    "\n",
    "# Load CSV data into DataFrames\n",
    "data2 = pd.read_csv('Data2.csv')\n",
    "data3 = pd.read_csv('Data3.csv')\n",
    "\n",
    "# Merge the DataFrames on the 'Hotel name' column\n",
    "merged_data = pd.merge(data3, data2, on='Hotel name', how='inner')\n",
    "\n",
    "# Calculate the average price for each room type\n",
    "average_prices = merged_data.groupby('Room Type')['Prices'].mean().reset_index()\n",
    "\n",
    "# Rename the 'Prices' column to 'AveragePrice'\n",
    "average_prices.rename(columns={'Prices': 'AveragePrice'}, inplace=True)\n",
    "\n",
    "# Display the result\n",
    "print(average_prices)\n"
   ]
  },
  {
   "cell_type": "markdown",
   "id": "86964c67",
   "metadata": {},
   "source": [
    "### Based on the data we extracted, SQL queries were performed. "
   ]
  },
  {
   "cell_type": "code",
   "execution_count": null,
   "id": "93c022f7",
   "metadata": {},
   "outputs": [],
   "source": []
  }
 ],
 "metadata": {
  "colab": {
   "provenance": []
  },
  "kernelspec": {
   "display_name": "Python 3 (ipykernel)",
   "language": "python",
   "name": "python3"
  },
  "language_info": {
   "codemirror_mode": {
    "name": "ipython",
    "version": 3
   },
   "file_extension": ".py",
   "mimetype": "text/x-python",
   "name": "python",
   "nbconvert_exporter": "python",
   "pygments_lexer": "ipython3",
   "version": "3.9.13"
  }
 },
 "nbformat": 4,
 "nbformat_minor": 5
}
